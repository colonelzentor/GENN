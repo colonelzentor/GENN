{
 "cells": [
  {
   "cell_type": "code",
   "execution_count": 1,
   "metadata": {},
   "outputs": [],
   "source": [
    "from genn import GENN\n",
    "import matplotlib.pyplot as plt\n",
    "import numpy as np\n",
    "%matplotlib inline"
   ]
  },
  {
   "cell_type": "markdown",
   "metadata": {},
   "source": [
    "# Tutorial 1: One-Dimensional Sinusoid"
   ]
  },
  {
   "cell_type": "markdown",
   "metadata": {},
   "source": [
    "In a first step, let's define the test function we will be working with, taken to be a simple sinusoidal function:"
   ]
  },
  {
   "cell_type": "code",
   "execution_count": 2,
   "metadata": {},
   "outputs": [],
   "source": [
    "f = lambda x: x * np.sin(x)\n",
    "df_dx = lambda x: np.sin(x) + x * np.cos(x)"
   ]
  },
  {
   "cell_type": "markdown",
   "metadata": {},
   "source": [
    "Next, let's define the domain over which we will collect synthetic training data:"
   ]
  },
  {
   "cell_type": "code",
   "execution_count": 3,
   "metadata": {},
   "outputs": [],
   "source": [
    "lb = -np.pi\n",
    "ub = np.pi"
   ]
  },
  {
   "cell_type": "markdown",
   "metadata": {},
   "source": [
    "We will now generate some synthetic data that will be used to train our GENN model later on:"
   ]
  },
  {
   "cell_type": "code",
   "execution_count": 4,
   "metadata": {},
   "outputs": [],
   "source": [
    "m = 4    # number of training examples\n",
    "n_x = 1  # number of inputs\n",
    "n_y = 1  # number of outputs\n",
    "X_train = np.linspace(lb, ub, m).reshape((m, n_x))\n",
    "Y_train = f(X_train).reshape((m, n_y))\n",
    "J_train = df_dx(X_train).reshape((m, n_y, n_x))"
   ]
  },
  {
   "cell_type": "markdown",
   "metadata": {},
   "source": [
    "We also generate some synthetic data that will be used to test the accuracy of the trained model:"
   ]
  },
  {
   "cell_type": "code",
   "execution_count": 5,
   "metadata": {},
   "outputs": [],
   "source": [
    "m = 30  # number of test examples\n",
    "X_test = lb + np.random.rand(m, 1).reshape((m, n_x)) * (ub - lb)\n",
    "Y_test = f(X_test).reshape((m, n_y))\n",
    "J_test = df_dx(X_test).reshape((m, n_y, n_x))"
   ]
  },
  {
   "cell_type": "markdown",
   "metadata": {},
   "source": [
    "We now initalize the model, where $deep \\ge 1$ and $wide \\ge 1$ are the number of layers in the neural network and the number of nodes per layer, respectively. Feel free to try different network architectures. The parameters $n_x \\ge 1$ and $n_y \\ge 1$ are the number of inputs and outputs, respectively. "
   ]
  },
  {
   "cell_type": "code",
   "execution_count": 6,
   "metadata": {},
   "outputs": [],
   "source": [
    "model = GENN(hidden_layer_sizes=(12,), activation='tanh',\n",
    "             num_epochs=1, max_iter=200, batch_size=None,\n",
    "             learning_rate='backtracking', random_state=None, tol=1e-6,\n",
    "             learning_rate_init=0.05, alpha=0.1, gamma=1,\n",
    "             verbose=False)"
   ]
  },
  {
   "cell_type": "markdown",
   "metadata": {},
   "source": [
    "Now that the model is initialized, we need to train it. To do so, we need to provide training data and specify hyper-parameters that control the behavior of the training algorithm:"
   ]
  },
  {
   "cell_type": "code",
   "execution_count": 7,
   "metadata": {},
   "outputs": [],
   "source": [
    "model.fit(X_train, Y_train, J_train) "
   ]
  },
  {
   "cell_type": "markdown",
   "metadata": {},
   "source": [
    "Now that the model is trained, let's check the results. To do so, we first verify the convergence history: "
   ]
  },
  {
   "cell_type": "code",
   "execution_count": 9,
   "metadata": {},
   "outputs": [
    {
     "data": {
      "image/png": "[encoded data removed]",
      "text/plain": [
       "<Figure size 432x288 with 1 Axes>"
      ]
     },
     "metadata": {
      "needs_background": "light"
     },
     "output_type": "display_data"
    }
   ],
   "source": [
    "history = model.training_history()"
   ]
  },
  {
   "cell_type": "markdown",
   "metadata": {},
   "source": [
    "Upon satisfaction, we now check the goodness of fit using the test data we generated earlier: "
   ]
  },
  {
   "cell_type": "code",
   "execution_count": null,
   "metadata": {},
   "outputs": [],
   "source": [
    "model.goodness_fit(X_test, Y_test)"
   ]
  },
  {
   "cell_type": "markdown",
   "metadata": {},
   "source": [
    "Finally, since this is a 1D problem, we can plot the predicted and true responses for comparison. In a first step, let's generate new data points for plotting:"
   ]
  },
  {
   "cell_type": "code",
   "execution_count": null,
   "metadata": {},
   "outputs": [],
   "source": [
    "X = np.linspace(lb, ub, 100).reshape((-1, n_x))"
   ]
  },
  {
   "cell_type": "markdown",
   "metadata": {},
   "source": [
    "Second, let's evaluate the true and predicted model at these points:"
   ]
  },
  {
   "cell_type": "code",
   "execution_count": null,
   "metadata": {},
   "outputs": [],
   "source": [
    "Y_true = f(X)\n",
    "Y_pred = model.predict(X)"
   ]
  },
  {
   "cell_type": "markdown",
   "metadata": {},
   "source": [
    "Finally, we can now plot the true and predicted models for comparison: "
   ]
  },
  {
   "cell_type": "code",
   "execution_count": null,
   "metadata": {},
   "outputs": [],
   "source": [
    "fig, ax = plt.subplots()\n",
    "ax.plot(X, Y_pred, 'b-')\n",
    "ax.plot(X, Y_true, 'k--')\n",
    "ax.plot(X_test, Y_test, 'ro')\n",
    "ax.plot(X_train, Y_train, 'k+', mew=3, ms=10)\n",
    "ax.set(xlabel='x', ylabel='y', title='GENN')\n",
    "ax.legend(['Predicted', 'True', 'Test', 'Train'])\n",
    "plt.show()"
   ]
  },
  {
   "cell_type": "markdown",
   "metadata": {},
   "source": [
    "Notice that with only four training points, we obtained a pretty descent prediction. For comparison, let's turn off gradient enhancement (gamma = 0) and repeat these steps: "
   ]
  },
  {
   "cell_type": "code",
   "execution_count": null,
   "metadata": {},
   "outputs": [],
   "source": [
    "model.gamma = 0 \n",
    "\n",
    "model.fit(X_train, Y_train) \n",
    "\n",
    "Y_true = f(X)\n",
    "Y_pred = model.predict(X)\n",
    "\n",
    "fig, ax = plt.subplots()\n",
    "ax.plot(X, Y_pred, 'b-')\n",
    "ax.plot(X, Y_true, 'k--')\n",
    "ax.plot(X_test, Y_test, 'ro')\n",
    "ax.plot(X_train, Y_train, 'k+', mew=3, ms=10)\n",
    "ax.set(xlabel='x', ylabel='y', title='NN')\n",
    "ax.legend(['Predicted', 'True', 'Test', 'Train'])\n",
    "plt.show()"
   ]
  },
  {
   "cell_type": "markdown",
   "metadata": {},
   "source": [
    "You can see that even though we nearly perfectly fit the training data, the prediction is actually terrible because, without gradient-enhancement, tradional neural nets need more data points to learn the topology of the response they are trying to fit. "
   ]
  },
  {
   "cell_type": "code",
   "execution_count": null,
   "metadata": {},
   "outputs": [],
   "source": []
  }
 ],
 "metadata": {
  "kernelspec": {
   "display_name": "Python 3",
   "language": "python",
   "name": "python3"
  },
  "language_info": {
   "codemirror_mode": {
    "name": "ipython",
    "version": 3
   },
   "file_extension": ".py",
   "mimetype": "text/x-python",
   "name": "python",
   "nbconvert_exporter": "python",
   "pygments_lexer": "ipython3",
   "version": "3.8.2"
  }
 },
 "nbformat": 4,
 "nbformat_minor": 4
}
